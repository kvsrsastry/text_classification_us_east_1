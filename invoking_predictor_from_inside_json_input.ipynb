{
 "cells": [
  {
   "cell_type": "code",
   "execution_count": 89,
   "id": "4019a88e",
   "metadata": {},
   "outputs": [],
   "source": [
    "#omgamganapathayenamaha\n",
    "#omgamganapathayenamaha\n",
    "#omgamganapathayenamaha\n",
    "#omgamganapathayenamaha\n",
    "#omgamganapathayenamaha"
   ]
  },
  {
   "cell_type": "code",
   "execution_count": 90,
   "id": "a1caf040",
   "metadata": {},
   "outputs": [],
   "source": [
    "import boto3"
   ]
  },
  {
   "cell_type": "code",
   "execution_count": 91,
   "id": "34c23f64",
   "metadata": {},
   "outputs": [],
   "source": [
    "sess = boto3.Session()"
   ]
  },
  {
   "cell_type": "code",
   "execution_count": 92,
   "id": "60251f14",
   "metadata": {},
   "outputs": [],
   "source": [
    "#sess.get_available_services()"
   ]
  },
  {
   "cell_type": "code",
   "execution_count": 93,
   "id": "ebb5976d",
   "metadata": {},
   "outputs": [
    {
     "data": {
      "text/plain": [
       "'ap-southeast-2'"
      ]
     },
     "execution_count": 93,
     "metadata": {},
     "output_type": "execute_result"
    }
   ],
   "source": [
    "sess.region_name"
   ]
  },
  {
   "cell_type": "code",
   "execution_count": 94,
   "id": "01b24bc4",
   "metadata": {},
   "outputs": [],
   "source": [
    "client = sess.client(\"sagemaker-runtime\", region_name=sess.region_name)"
   ]
  },
  {
   "cell_type": "code",
   "execution_count": 95,
   "id": "e18da60b",
   "metadata": {},
   "outputs": [],
   "source": [
    "import json"
   ]
  },
  {
   "cell_type": "code",
   "execution_count": 96,
   "id": "9139a97a",
   "metadata": {},
   "outputs": [
    {
     "name": "stdout",
     "output_type": "stream",
     "text": [
      "{\n",
      "  \"instances\": [\n",
      "    {\n",
      "      \"features\": [\n",
      "        \"Lord ganesa is powerful.\"\n",
      "      ]\n",
      "    },\n",
      "    {\n",
      "      \"features\": [\n",
      "        \"Siva and Parvathi are universal parents.\"\n",
      "      ]\n",
      "    }\n",
      "  ]\n",
      "}\n"
     ]
    }
   ],
   "source": [
    "# Single Observation\n",
    "sample_one = ['Lord ganesa is powerful.']\n",
    "sample_two = ['Siva and Parvathi are universal parents.']\n",
    "request = {\n",
    "    \"instances\": [\n",
    "        # First instance.\n",
    "        {\n",
    "            \"features\": sample_one\n",
    "        },\n",
    "        {\n",
    "            \"features\": sample_two\n",
    "        }\n",
    "    ]\n",
    "}\n",
    "print(json.dumps(request, indent=2))"
   ]
  },
  {
   "cell_type": "code",
   "execution_count": 97,
   "id": "766500fe",
   "metadata": {},
   "outputs": [],
   "source": [
    "import pickle\n",
    "import os"
   ]
  },
  {
   "cell_type": "code",
   "execution_count": 98,
   "id": "85a4040d",
   "metadata": {},
   "outputs": [],
   "source": [
    "class sparse_to_dense:\n",
    "    def fit(self, X, y=None, **fit_params):\n",
    "        return self\n",
    "    def transform(self, X, y=None, **fit_params):\n",
    "        return X.toarray()"
   ]
  },
  {
   "cell_type": "code",
   "execution_count": 101,
   "id": "da21fff3",
   "metadata": {},
   "outputs": [],
   "source": [
    "def transform(data):\n",
    "    data_copy = json.loads(json.dumps(data))\n",
    "    data_pipeline = None\n",
    "    if os.path.exists('data_pipeline_downloaded') and os.path.isfile('data_pipeline_downloaded'):\n",
    "        with open('data_pipeline_downloaded', 'rb') as fh:\n",
    "            data_pipeline = pickle.load(fh)\n",
    "    else:\n",
    "        pipeln_bucket = 'varenya-ml-sagemaker'\n",
    "        pipeln_object = 'binary_text_classification/data_pipeline/data_pipeline'\n",
    "        with open('data_pipeline_downloaded', 'wb') as fw:\n",
    "            boto3.Session().resource('s3').Bucket(pipeln_bucket).Object(pipeln_object).download_fileobj(fw)\n",
    "        with open('data_pipeline_downloaded', 'rb') as fh:\n",
    "            data_pipeline = pickle.load(fh)\n",
    "    return data_pipeline.transform(data_copy)"
   ]
  },
  {
   "cell_type": "code",
   "execution_count": 102,
   "id": "6a82c430",
   "metadata": {},
   "outputs": [
    {
     "data": {
      "text/plain": [
       "array([[-0.07029673, -0.03537746, -0.03537746, ..., -0.03537746,\n",
       "        -0.06820728, -0.05721465],\n",
       "       [-0.07029673, -0.03537746, -0.03537746, ..., -0.03537746,\n",
       "        -0.06820728, -0.05721465]])"
      ]
     },
     "execution_count": 102,
     "metadata": {},
     "output_type": "execute_result"
    }
   ],
   "source": [
    "X_test = [instance['features'] for instance in request['instances']]\n",
    "X_test = transform(X_test)\n",
    "X_test"
   ]
  },
  {
   "cell_type": "code",
   "execution_count": 85,
   "id": "32cb3fa9",
   "metadata": {},
   "outputs": [
    {
     "data": {
      "text/plain": [
       "(2, 1587)"
      ]
     },
     "execution_count": 85,
     "metadata": {},
     "output_type": "execute_result"
    }
   ],
   "source": [
    "X_test.shape"
   ]
  },
  {
   "cell_type": "code",
   "execution_count": 65,
   "id": "8cdc906a",
   "metadata": {},
   "outputs": [],
   "source": [
    "from sagemaker.serializers import CSVSerializer"
   ]
  },
  {
   "cell_type": "code",
   "execution_count": 66,
   "id": "aa3d90fc",
   "metadata": {},
   "outputs": [],
   "source": [
    "endpoint_name = \"xgboost-aws-v1\"\n",
    "serializer = CSVSerializer()"
   ]
  },
  {
   "cell_type": "code",
   "execution_count": 86,
   "id": "ab38dff3",
   "metadata": {},
   "outputs": [],
   "source": [
    "result = client.invoke_endpoint(EndpointName=endpoint_name, \n",
    "                       Body='\\n'.join([','.join([str(ite) for ite in item]) for item in X_test.tolist()]).encode('utf-8'),\n",
    "                       ContentType='text/csv')"
   ]
  },
  {
   "cell_type": "code",
   "execution_count": 87,
   "id": "6499305c",
   "metadata": {},
   "outputs": [],
   "source": [
    "result = result['Body'].read().decode('utf-8')"
   ]
  },
  {
   "cell_type": "code",
   "execution_count": 88,
   "id": "561c26ac",
   "metadata": {},
   "outputs": [
    {
     "data": {
      "text/plain": [
       "[0.3724002242088318, 0.3724002242088318]"
      ]
     },
     "execution_count": 88,
     "metadata": {},
     "output_type": "execute_result"
    }
   ],
   "source": [
    "y_pred = [float(item) for item in result.split() if item != \"\"]\n",
    "y_pred"
   ]
  },
  {
   "cell_type": "code",
   "execution_count": 46,
   "id": "cf2279dc",
   "metadata": {},
   "outputs": [],
   "source": [
    "import pandas as pd\n",
    "import numpy as np"
   ]
  },
  {
   "cell_type": "code",
   "execution_count": 47,
   "id": "7ca9ea39",
   "metadata": {},
   "outputs": [
    {
     "data": {
      "text/html": [
       "<div>\n",
       "<style scoped>\n",
       "    .dataframe tbody tr th:only-of-type {\n",
       "        vertical-align: middle;\n",
       "    }\n",
       "\n",
       "    .dataframe tbody tr th {\n",
       "        vertical-align: top;\n",
       "    }\n",
       "\n",
       "    .dataframe thead th {\n",
       "        text-align: right;\n",
       "    }\n",
       "</style>\n",
       "<table border=\"1\" class=\"dataframe\">\n",
       "  <thead>\n",
       "    <tr style=\"text-align: right;\">\n",
       "      <th></th>\n",
       "      <th>0</th>\n",
       "      <th>1</th>\n",
       "      <th>2</th>\n",
       "      <th>3</th>\n",
       "      <th>4</th>\n",
       "      <th>5</th>\n",
       "      <th>6</th>\n",
       "      <th>7</th>\n",
       "      <th>8</th>\n",
       "      <th>9</th>\n",
       "      <th>...</th>\n",
       "      <th>1578</th>\n",
       "      <th>1579</th>\n",
       "      <th>1580</th>\n",
       "      <th>1581</th>\n",
       "      <th>1582</th>\n",
       "      <th>1583</th>\n",
       "      <th>1584</th>\n",
       "      <th>1585</th>\n",
       "      <th>1586</th>\n",
       "      <th>1587</th>\n",
       "    </tr>\n",
       "  </thead>\n",
       "  <tbody>\n",
       "    <tr>\n",
       "      <th>0</th>\n",
       "      <td>1.0</td>\n",
       "      <td>-0.070297</td>\n",
       "      <td>-0.035377</td>\n",
       "      <td>-0.035377</td>\n",
       "      <td>-0.035377</td>\n",
       "      <td>-0.035377</td>\n",
       "      <td>-0.059998</td>\n",
       "      <td>-0.035377</td>\n",
       "      <td>-0.070848</td>\n",
       "      <td>-0.035377</td>\n",
       "      <td>...</td>\n",
       "      <td>-0.035377</td>\n",
       "      <td>-0.035377</td>\n",
       "      <td>-0.035377</td>\n",
       "      <td>-0.047469</td>\n",
       "      <td>-0.060202</td>\n",
       "      <td>-0.035377</td>\n",
       "      <td>-0.035377</td>\n",
       "      <td>-0.035377</td>\n",
       "      <td>-0.068207</td>\n",
       "      <td>-0.057215</td>\n",
       "    </tr>\n",
       "    <tr>\n",
       "      <th>1</th>\n",
       "      <td>1.0</td>\n",
       "      <td>-0.070297</td>\n",
       "      <td>-0.035377</td>\n",
       "      <td>-0.035377</td>\n",
       "      <td>-0.035377</td>\n",
       "      <td>-0.035377</td>\n",
       "      <td>-0.059998</td>\n",
       "      <td>-0.035377</td>\n",
       "      <td>-0.070848</td>\n",
       "      <td>-0.035377</td>\n",
       "      <td>...</td>\n",
       "      <td>-0.035377</td>\n",
       "      <td>-0.035377</td>\n",
       "      <td>-0.035377</td>\n",
       "      <td>-0.047469</td>\n",
       "      <td>-0.060202</td>\n",
       "      <td>-0.035377</td>\n",
       "      <td>-0.035377</td>\n",
       "      <td>-0.035377</td>\n",
       "      <td>-0.068207</td>\n",
       "      <td>-0.057215</td>\n",
       "    </tr>\n",
       "    <tr>\n",
       "      <th>2</th>\n",
       "      <td>1.0</td>\n",
       "      <td>-0.070297</td>\n",
       "      <td>-0.035377</td>\n",
       "      <td>-0.035377</td>\n",
       "      <td>-0.035377</td>\n",
       "      <td>-0.035377</td>\n",
       "      <td>-0.059998</td>\n",
       "      <td>-0.035377</td>\n",
       "      <td>-0.070848</td>\n",
       "      <td>-0.035377</td>\n",
       "      <td>...</td>\n",
       "      <td>-0.035377</td>\n",
       "      <td>-0.035377</td>\n",
       "      <td>-0.035377</td>\n",
       "      <td>-0.047469</td>\n",
       "      <td>-0.060202</td>\n",
       "      <td>-0.035377</td>\n",
       "      <td>-0.035377</td>\n",
       "      <td>-0.035377</td>\n",
       "      <td>-0.068207</td>\n",
       "      <td>-0.057215</td>\n",
       "    </tr>\n",
       "    <tr>\n",
       "      <th>3</th>\n",
       "      <td>1.0</td>\n",
       "      <td>-0.070297</td>\n",
       "      <td>-0.035377</td>\n",
       "      <td>-0.035377</td>\n",
       "      <td>-0.035377</td>\n",
       "      <td>-0.035377</td>\n",
       "      <td>-0.059998</td>\n",
       "      <td>-0.035377</td>\n",
       "      <td>-0.070848</td>\n",
       "      <td>-0.035377</td>\n",
       "      <td>...</td>\n",
       "      <td>-0.035377</td>\n",
       "      <td>-0.035377</td>\n",
       "      <td>-0.035377</td>\n",
       "      <td>-0.047469</td>\n",
       "      <td>-0.060202</td>\n",
       "      <td>-0.035377</td>\n",
       "      <td>-0.035377</td>\n",
       "      <td>-0.035377</td>\n",
       "      <td>-0.068207</td>\n",
       "      <td>-0.057215</td>\n",
       "    </tr>\n",
       "    <tr>\n",
       "      <th>4</th>\n",
       "      <td>1.0</td>\n",
       "      <td>-0.070297</td>\n",
       "      <td>-0.035377</td>\n",
       "      <td>-0.035377</td>\n",
       "      <td>-0.035377</td>\n",
       "      <td>-0.035377</td>\n",
       "      <td>-0.059998</td>\n",
       "      <td>-0.035377</td>\n",
       "      <td>-0.070848</td>\n",
       "      <td>-0.035377</td>\n",
       "      <td>...</td>\n",
       "      <td>-0.035377</td>\n",
       "      <td>-0.035377</td>\n",
       "      <td>-0.035377</td>\n",
       "      <td>-0.047469</td>\n",
       "      <td>-0.060202</td>\n",
       "      <td>-0.035377</td>\n",
       "      <td>-0.035377</td>\n",
       "      <td>-0.035377</td>\n",
       "      <td>-0.068207</td>\n",
       "      <td>-0.057215</td>\n",
       "    </tr>\n",
       "  </tbody>\n",
       "</table>\n",
       "<p>5 rows × 1588 columns</p>\n",
       "</div>"
      ],
      "text/plain": [
       "   0         1         2         3         4         5         6         7     \\\n",
       "0   1.0 -0.070297 -0.035377 -0.035377 -0.035377 -0.035377 -0.059998 -0.035377   \n",
       "1   1.0 -0.070297 -0.035377 -0.035377 -0.035377 -0.035377 -0.059998 -0.035377   \n",
       "2   1.0 -0.070297 -0.035377 -0.035377 -0.035377 -0.035377 -0.059998 -0.035377   \n",
       "3   1.0 -0.070297 -0.035377 -0.035377 -0.035377 -0.035377 -0.059998 -0.035377   \n",
       "4   1.0 -0.070297 -0.035377 -0.035377 -0.035377 -0.035377 -0.059998 -0.035377   \n",
       "\n",
       "       8         9     ...      1578      1579      1580      1581      1582  \\\n",
       "0 -0.070848 -0.035377  ... -0.035377 -0.035377 -0.035377 -0.047469 -0.060202   \n",
       "1 -0.070848 -0.035377  ... -0.035377 -0.035377 -0.035377 -0.047469 -0.060202   \n",
       "2 -0.070848 -0.035377  ... -0.035377 -0.035377 -0.035377 -0.047469 -0.060202   \n",
       "3 -0.070848 -0.035377  ... -0.035377 -0.035377 -0.035377 -0.047469 -0.060202   \n",
       "4 -0.070848 -0.035377  ... -0.035377 -0.035377 -0.035377 -0.047469 -0.060202   \n",
       "\n",
       "       1583      1584      1585      1586      1587  \n",
       "0 -0.035377 -0.035377 -0.035377 -0.068207 -0.057215  \n",
       "1 -0.035377 -0.035377 -0.035377 -0.068207 -0.057215  \n",
       "2 -0.035377 -0.035377 -0.035377 -0.068207 -0.057215  \n",
       "3 -0.035377 -0.035377 -0.035377 -0.068207 -0.057215  \n",
       "4 -0.035377 -0.035377 -0.035377 -0.068207 -0.057215  \n",
       "\n",
       "[5 rows x 1588 columns]"
      ]
     },
     "execution_count": 47,
     "metadata": {},
     "output_type": "execute_result"
    }
   ],
   "source": [
    "df = pd.read_csv('test.csv', header=None)\n",
    "df.head()"
   ]
  },
  {
   "cell_type": "code",
   "execution_count": 48,
   "id": "bd204d71",
   "metadata": {},
   "outputs": [
    {
     "data": {
      "text/plain": [
       "(200, 1587)"
      ]
     },
     "execution_count": 48,
     "metadata": {},
     "output_type": "execute_result"
    }
   ],
   "source": [
    "X_test = df.iloc[:, 1:]\n",
    "X_test.shape"
   ]
  },
  {
   "cell_type": "code",
   "execution_count": 56,
   "id": "db51f20e",
   "metadata": {},
   "outputs": [],
   "source": [
    "y_pred = []\n",
    "for i in range(0, len(X_test), 30):\n",
    "    result = client.invoke_endpoint(EndpointName=endpoint_name, \n",
    "                       Body=serializer.serialize(X_test[i:i+30]).encode('utf-8'),\n",
    "                       ContentType='text/csv')\n",
    "    result = result['Body'].read().decode('utf-8')\n",
    "    y_pred.extend([float(item) for item in result.split() if item != \"\"])"
   ]
  },
  {
   "cell_type": "code",
   "execution_count": 59,
   "id": "0f3a5927",
   "metadata": {},
   "outputs": [
    {
     "data": {
      "text/plain": [
       "200"
      ]
     },
     "execution_count": 59,
     "metadata": {},
     "output_type": "execute_result"
    }
   ],
   "source": [
    "len(y_pred)"
   ]
  },
  {
   "cell_type": "code",
   "execution_count": 60,
   "id": "e991f6cf",
   "metadata": {},
   "outputs": [],
   "source": [
    "sk = boto3.client(\"sagemaker\")"
   ]
  },
  {
   "cell_type": "code",
   "execution_count": 62,
   "id": "db5d82cc",
   "metadata": {},
   "outputs": [
    {
     "ename": "AttributeError",
     "evalue": "'SageMaker' object has no attribute 'serializers'",
     "output_type": "error",
     "traceback": [
      "\u001b[0;31m---------------------------------------------------------------------------\u001b[0m",
      "\u001b[0;31mAttributeError\u001b[0m                            Traceback (most recent call last)",
      "Cell \u001b[0;32mIn[62], line 1\u001b[0m\n\u001b[0;32m----> 1\u001b[0m \u001b[43msk\u001b[49m\u001b[38;5;241;43m.\u001b[39;49m\u001b[43mserializers\u001b[49m\n",
      "File \u001b[0;32m~/anaconda3/envs/python3/lib/python3.10/site-packages/botocore/client.py:918\u001b[0m, in \u001b[0;36mBaseClient.__getattr__\u001b[0;34m(self, item)\u001b[0m\n\u001b[1;32m    915\u001b[0m \u001b[38;5;28;01mif\u001b[39;00m event_response \u001b[38;5;129;01mis\u001b[39;00m \u001b[38;5;129;01mnot\u001b[39;00m \u001b[38;5;28;01mNone\u001b[39;00m:\n\u001b[1;32m    916\u001b[0m     \u001b[38;5;28;01mreturn\u001b[39;00m event_response\n\u001b[0;32m--> 918\u001b[0m \u001b[38;5;28;01mraise\u001b[39;00m \u001b[38;5;167;01mAttributeError\u001b[39;00m(\n\u001b[1;32m    919\u001b[0m     \u001b[38;5;124mf\u001b[39m\u001b[38;5;124m\"\u001b[39m\u001b[38;5;124m'\u001b[39m\u001b[38;5;132;01m{\u001b[39;00m\u001b[38;5;28mself\u001b[39m\u001b[38;5;241m.\u001b[39m\u001b[38;5;18m__class__\u001b[39m\u001b[38;5;241m.\u001b[39m\u001b[38;5;18m__name__\u001b[39m\u001b[38;5;132;01m}\u001b[39;00m\u001b[38;5;124m'\u001b[39m\u001b[38;5;124m object has no attribute \u001b[39m\u001b[38;5;124m'\u001b[39m\u001b[38;5;132;01m{\u001b[39;00mitem\u001b[38;5;132;01m}\u001b[39;00m\u001b[38;5;124m'\u001b[39m\u001b[38;5;124m\"\u001b[39m\n\u001b[1;32m    920\u001b[0m )\n",
      "\u001b[0;31mAttributeError\u001b[0m: 'SageMaker' object has no attribute 'serializers'"
     ]
    }
   ],
   "source": [
    "sk.serializers"
   ]
  },
  {
   "cell_type": "code",
   "execution_count": 75,
   "id": "a2cee89f",
   "metadata": {},
   "outputs": [],
   "source": [
    "tmp = np.array([[1,2,3],[4,5,6]])"
   ]
  },
  {
   "cell_type": "code",
   "execution_count": 76,
   "id": "7884b00b",
   "metadata": {},
   "outputs": [
    {
     "data": {
      "text/plain": [
       "array([[1, 2, 3],\n",
       "       [4, 5, 6]])"
      ]
     },
     "execution_count": 76,
     "metadata": {},
     "output_type": "execute_result"
    }
   ],
   "source": [
    "tmp"
   ]
  },
  {
   "cell_type": "code",
   "execution_count": 77,
   "id": "01f85bcd",
   "metadata": {},
   "outputs": [
    {
     "data": {
      "text/plain": [
       "'1,2,3\\n4,5,6'"
      ]
     },
     "execution_count": 77,
     "metadata": {},
     "output_type": "execute_result"
    }
   ],
   "source": [
    "serializer.serialize(tmp)"
   ]
  },
  {
   "cell_type": "code",
   "execution_count": 84,
   "id": "c5e559a5",
   "metadata": {},
   "outputs": [
    {
     "data": {
      "text/plain": [
       "'1,2,3\\n4,5,6'"
      ]
     },
     "execution_count": 84,
     "metadata": {},
     "output_type": "execute_result"
    }
   ],
   "source": [
    "'\\n'.join([','.join([str(ite) for ite in item]) for item in tmp.tolist()])"
   ]
  },
  {
   "cell_type": "code",
   "execution_count": null,
   "id": "900e7de4",
   "metadata": {},
   "outputs": [],
   "source": []
  }
 ],
 "metadata": {
  "kernelspec": {
   "display_name": "conda_python3",
   "language": "python",
   "name": "conda_python3"
  },
  "language_info": {
   "codemirror_mode": {
    "name": "ipython",
    "version": 3
   },
   "file_extension": ".py",
   "mimetype": "text/x-python",
   "name": "python",
   "nbconvert_exporter": "python",
   "pygments_lexer": "ipython3",
   "version": "3.10.14"
  }
 },
 "nbformat": 4,
 "nbformat_minor": 5
}
