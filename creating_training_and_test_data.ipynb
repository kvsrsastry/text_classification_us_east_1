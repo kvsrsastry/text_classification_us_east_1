{
 "cells": [
  {
   "cell_type": "code",
   "execution_count": 1,
   "id": "f2695b5b",
   "metadata": {},
   "outputs": [],
   "source": [
    "#omgamganapathayenamaha\n",
    "#omgamganapathayenamaha\n",
    "#omgamganapathayenamaha\n",
    "#omgamganapathayenamaha\n",
    "#omgamganapathayenamaha"
   ]
  },
  {
   "cell_type": "code",
   "execution_count": 2,
   "id": "a2eb1914",
   "metadata": {},
   "outputs": [],
   "source": [
    "import pandas as pd\n",
    "import numpy as np\n",
    "import matplotlib.pyplot as plt"
   ]
  },
  {
   "cell_type": "code",
   "execution_count": 3,
   "id": "d7066410",
   "metadata": {},
   "outputs": [
    {
     "name": "stdout",
     "output_type": "stream",
     "text": [
      "<class 'pandas.core.frame.DataFrame'>\n",
      "RangeIndex: 1000 entries, 0 to 999\n",
      "Data columns (total 2 columns):\n",
      " #   Column  Non-Null Count  Dtype \n",
      "---  ------  --------------  ----- \n",
      " 0   Review  1000 non-null   object\n",
      " 1   Liked   1000 non-null   int64 \n",
      "dtypes: int64(1), object(1)\n",
      "memory usage: 15.8+ KB\n"
     ]
    }
   ],
   "source": [
    "df = pd.read_csv('Restaurant_Reviews.tsv', sep='\\t')\n",
    "df.info()"
   ]
  },
  {
   "cell_type": "code",
   "execution_count": 4,
   "id": "581dfb3d",
   "metadata": {},
   "outputs": [
    {
     "data": {
      "text/html": [
       "<div>\n",
       "<style scoped>\n",
       "    .dataframe tbody tr th:only-of-type {\n",
       "        vertical-align: middle;\n",
       "    }\n",
       "\n",
       "    .dataframe tbody tr th {\n",
       "        vertical-align: top;\n",
       "    }\n",
       "\n",
       "    .dataframe thead th {\n",
       "        text-align: right;\n",
       "    }\n",
       "</style>\n",
       "<table border=\"1\" class=\"dataframe\">\n",
       "  <thead>\n",
       "    <tr style=\"text-align: right;\">\n",
       "      <th></th>\n",
       "      <th>Review</th>\n",
       "      <th>Liked</th>\n",
       "    </tr>\n",
       "  </thead>\n",
       "  <tbody>\n",
       "    <tr>\n",
       "      <th>0</th>\n",
       "      <td>Wow... Loved this place.</td>\n",
       "      <td>1</td>\n",
       "    </tr>\n",
       "    <tr>\n",
       "      <th>1</th>\n",
       "      <td>Crust is not good.</td>\n",
       "      <td>0</td>\n",
       "    </tr>\n",
       "    <tr>\n",
       "      <th>2</th>\n",
       "      <td>Not tasty and the texture was just nasty.</td>\n",
       "      <td>0</td>\n",
       "    </tr>\n",
       "    <tr>\n",
       "      <th>3</th>\n",
       "      <td>Stopped by during the late May bank holiday of...</td>\n",
       "      <td>1</td>\n",
       "    </tr>\n",
       "    <tr>\n",
       "      <th>4</th>\n",
       "      <td>The selection on the menu was great and so wer...</td>\n",
       "      <td>1</td>\n",
       "    </tr>\n",
       "  </tbody>\n",
       "</table>\n",
       "</div>"
      ],
      "text/plain": [
       "                                              Review  Liked\n",
       "0                           Wow... Loved this place.      1\n",
       "1                                 Crust is not good.      0\n",
       "2          Not tasty and the texture was just nasty.      0\n",
       "3  Stopped by during the late May bank holiday of...      1\n",
       "4  The selection on the menu was great and so wer...      1"
      ]
     },
     "execution_count": 4,
     "metadata": {},
     "output_type": "execute_result"
    }
   ],
   "source": [
    "df.head()"
   ]
  },
  {
   "cell_type": "code",
   "execution_count": 5,
   "id": "d8d9b1e4",
   "metadata": {},
   "outputs": [
    {
     "data": {
      "text/plain": [
       "((1000, 1), (1000,))"
      ]
     },
     "execution_count": 5,
     "metadata": {},
     "output_type": "execute_result"
    }
   ],
   "source": [
    "X = df.iloc[:, :-1]\n",
    "y = df.iloc[:, -1]\n",
    "X.shape, y.shape"
   ]
  },
  {
   "cell_type": "code",
   "execution_count": 6,
   "id": "ea0f6fe0",
   "metadata": {},
   "outputs": [],
   "source": [
    "from sklearn.model_selection import train_test_split"
   ]
  },
  {
   "cell_type": "code",
   "execution_count": 7,
   "id": "cc98e80d",
   "metadata": {},
   "outputs": [
    {
     "data": {
      "text/plain": [
       "((800, 1), (200, 1), (800,), (200,))"
      ]
     },
     "execution_count": 7,
     "metadata": {},
     "output_type": "execute_result"
    }
   ],
   "source": [
    "X_train, X_test, y_train, y_test = train_test_split(X, y, test_size=0.2, random_state=42)\n",
    "X_train.shape, X_test.shape, y_train.shape, y_test.shape"
   ]
  },
  {
   "cell_type": "code",
   "execution_count": 8,
   "id": "ffe7816b",
   "metadata": {},
   "outputs": [],
   "source": [
    "class sparse_to_dense:\n",
    "    def fit(self, X, y=None, **fit_params):\n",
    "        return self\n",
    "    def transform(self, X, y=None, **fit_params):\n",
    "        return X.toarray()"
   ]
  },
  {
   "cell_type": "code",
   "execution_count": 9,
   "id": "a5a1e260",
   "metadata": {},
   "outputs": [],
   "source": [
    "from sklearn.feature_extraction.text import TfidfVectorizer\n",
    "from sklearn.preprocessing import StandardScaler\n",
    "from sklearn.naive_bayes import GaussianNB\n",
    "from sklearn.compose import ColumnTransformer\n",
    "from sklearn.pipeline import Pipeline\n",
    "ct = ColumnTransformer(transformers=[('tfidf', TfidfVectorizer(stop_words='english'), 0)])\n",
    "data_pipeline = Pipeline(steps=[('ct', ct),\n",
    "                        ('sparse_to_dense', sparse_to_dense()),\n",
    "                        ('sc', StandardScaler())])"
   ]
  },
  {
   "cell_type": "code",
   "execution_count": 10,
   "id": "066313ad",
   "metadata": {},
   "outputs": [],
   "source": [
    "X_train = data_pipeline.fit_transform(X_train, y_train)"
   ]
  },
  {
   "cell_type": "code",
   "execution_count": 11,
   "id": "d6c175e3",
   "metadata": {},
   "outputs": [
    {
     "data": {
      "text/plain": [
       "(800, 1587)"
      ]
     },
     "execution_count": 11,
     "metadata": {},
     "output_type": "execute_result"
    }
   ],
   "source": [
    "X_train.shape"
   ]
  },
  {
   "cell_type": "code",
   "execution_count": 12,
   "id": "7139abc8",
   "metadata": {},
   "outputs": [
    {
     "data": {
      "text/plain": [
       "array([[-0.07029673, -0.03537746, -0.03537746, ..., -0.03537746,\n",
       "        -0.06820728, -0.05721465],\n",
       "       [-0.07029673, -0.03537746, -0.03537746, ..., -0.03537746,\n",
       "        -0.06820728, -0.05721465],\n",
       "       [-0.07029673, -0.03537746, -0.03537746, ..., -0.03537746,\n",
       "        -0.06820728, -0.05721465],\n",
       "       [-0.07029673, -0.03537746, -0.03537746, ..., -0.03537746,\n",
       "        -0.06820728, -0.05721465],\n",
       "       [-0.07029673, -0.03537746, -0.03537746, ..., -0.03537746,\n",
       "        -0.06820728, -0.05721465]])"
      ]
     },
     "execution_count": 12,
     "metadata": {},
     "output_type": "execute_result"
    }
   ],
   "source": [
    "X_train[:5]"
   ]
  },
  {
   "cell_type": "code",
   "execution_count": 13,
   "id": "63fa237d",
   "metadata": {},
   "outputs": [],
   "source": [
    "X_test = data_pipeline.transform(X_test)"
   ]
  },
  {
   "cell_type": "code",
   "execution_count": 14,
   "id": "b8a10d86",
   "metadata": {},
   "outputs": [
    {
     "data": {
      "text/plain": [
       "(200, 1587)"
      ]
     },
     "execution_count": 14,
     "metadata": {},
     "output_type": "execute_result"
    }
   ],
   "source": [
    "X_test.shape"
   ]
  },
  {
   "cell_type": "code",
   "execution_count": 15,
   "id": "217a7f68",
   "metadata": {},
   "outputs": [
    {
     "data": {
      "text/plain": [
       "((800, 1587),\n",
       " (200, 1587),\n",
       " (800,),\n",
       " (200,),\n",
       " numpy.ndarray,\n",
       " pandas.core.series.Series)"
      ]
     },
     "execution_count": 15,
     "metadata": {},
     "output_type": "execute_result"
    }
   ],
   "source": [
    "X_train.shape, X_test.shape, y_train.shape, y_test.shape, type(X_train), type(y_train)"
   ]
  },
  {
   "cell_type": "code",
   "execution_count": 16,
   "id": "d84d66ab",
   "metadata": {},
   "outputs": [],
   "source": [
    "pd.DataFrame(np.concatenate((np.array(y_train).reshape(-1,1), X_train), axis=1)).to_csv('train.csv', index=False,\n",
    "                                                                                       header=False)"
   ]
  },
  {
   "cell_type": "code",
   "execution_count": 17,
   "id": "f8162967",
   "metadata": {},
   "outputs": [],
   "source": [
    "pd.DataFrame(np.concatenate((np.array(y_test).reshape(-1,1), X_test), axis=1)).to_csv('test.csv', index=False,\n",
    "                                                                                      header=False)"
   ]
  },
  {
   "cell_type": "code",
   "execution_count": 4,
   "id": "5242a693",
   "metadata": {},
   "outputs": [],
   "source": [
    "import joblib"
   ]
  },
  {
   "cell_type": "code",
   "execution_count": 5,
   "id": "2fece08a",
   "metadata": {},
   "outputs": [],
   "source": [
    "#with open('data_pipeline', 'wb') as fw:\n",
    "#    pickle.dump(data_pipeline, fw)"
   ]
  },
  {
   "cell_type": "code",
   "execution_count": 20,
   "id": "510d54df",
   "metadata": {},
   "outputs": [
    {
     "data": {
      "text/plain": [
       "['data_pipeline']"
      ]
     },
     "execution_count": 20,
     "metadata": {},
     "output_type": "execute_result"
    }
   ],
   "source": [
    "joblib.dump(data_pipeline, 'data_pipeline',)"
   ]
  },
  {
   "cell_type": "code",
   "execution_count": 3,
   "id": "2b8c0980",
   "metadata": {},
   "outputs": [
    {
     "data": {
      "text/plain": [
       "'3.10.14 | packaged by conda-forge | (main, Mar 20 2024, 12:45:18) [GCC 12.3.0]'"
      ]
     },
     "execution_count": 3,
     "metadata": {},
     "output_type": "execute_result"
    }
   ],
   "source": [
    "import sys\n",
    "sys.version"
   ]
  },
  {
   "cell_type": "code",
   "execution_count": null,
   "id": "1a8b4b30",
   "metadata": {},
   "outputs": [],
   "source": [
    "joblib.load()"
   ]
  }
 ],
 "metadata": {
  "kernelspec": {
   "display_name": "conda_python3",
   "language": "python",
   "name": "conda_python3"
  },
  "language_info": {
   "codemirror_mode": {
    "name": "ipython",
    "version": 3
   },
   "file_extension": ".py",
   "mimetype": "text/x-python",
   "name": "python",
   "nbconvert_exporter": "python",
   "pygments_lexer": "ipython3",
   "version": "3.10.14"
  }
 },
 "nbformat": 4,
 "nbformat_minor": 5
}
