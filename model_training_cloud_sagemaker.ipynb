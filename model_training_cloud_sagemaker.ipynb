{
 "cells": [
  {
   "cell_type": "code",
   "execution_count": 1,
   "id": "1890ddbe",
   "metadata": {},
   "outputs": [],
   "source": [
    "#omgamganapathayenamaha\n",
    "#omgamganapathayenamaha\n",
    "#omgamganapathayenamaha\n",
    "#omgamganapathayenamaha\n",
    "#omgamganapathayenamaha"
   ]
  },
  {
   "cell_type": "code",
   "execution_count": 2,
   "id": "c1ec07eb",
   "metadata": {},
   "outputs": [],
   "source": [
    "# Upload training and test data to S3\n",
    "import boto3\n",
    "train_bucket = 'ganesa-ml-sagemaker'\n",
    "train_object = 'binary_text_classification/train/train.csv'\n",
    "with open('train.csv', 'rb') as fh:\n",
    "    boto3.Session(region_name='us-east-1').resource('s3').Bucket(train_bucket).Object(train_object).upload_fileobj(fh)\n",
    "\n",
    "test_bucket = 'ganesa-ml-sagemaker'\n",
    "test_object = 'binary_text_classification/test/test.csv'\n",
    "with open('test.csv', 'rb') as fh:\n",
    "    boto3.Session(region_name='us-east-1').resource('s3').Bucket(test_bucket).Object(test_object).upload_fileobj(fh)"
   ]
  },
  {
   "cell_type": "code",
   "execution_count": 3,
   "id": "96ed603c",
   "metadata": {},
   "outputs": [],
   "source": [
    "pipeln_bucket = 'ganesa-ml-sagemaker'\n",
    "pipeln_object = 'binary_text_classification/data_pipeline/data_pipeline'\n",
    "with open('data_pipeline', 'rb') as fh:\n",
    "    boto3.Session(region_name='us-east-1').resource('s3').Bucket(pipeln_bucket).Object(pipeln_object).upload_fileobj(fh)"
   ]
  },
  {
   "cell_type": "code",
   "execution_count": 22,
   "id": "d57fe82f",
   "metadata": {},
   "outputs": [],
   "source": [
    "import sagemaker"
   ]
  },
  {
   "cell_type": "code",
   "execution_count": 23,
   "id": "5fe327ef",
   "metadata": {},
   "outputs": [],
   "source": [
    "from sagemaker import get_execution_role\n",
    "role = get_execution_role()"
   ]
  },
  {
   "cell_type": "code",
   "execution_count": 24,
   "id": "58714395",
   "metadata": {},
   "outputs": [],
   "source": [
    "sess = sagemaker.Session()"
   ]
  },
  {
   "cell_type": "code",
   "execution_count": 25,
   "id": "9c3e7a05",
   "metadata": {},
   "outputs": [
    {
     "data": {
      "text/plain": [
       "'us-east-1'"
      ]
     },
     "execution_count": 25,
     "metadata": {},
     "output_type": "execute_result"
    }
   ],
   "source": [
    "sess.boto_region_name"
   ]
  },
  {
   "cell_type": "code",
   "execution_count": 26,
   "id": "ddb7266a",
   "metadata": {},
   "outputs": [
    {
     "name": "stderr",
     "output_type": "stream",
     "text": [
      "INFO:sagemaker.image_uris:Ignoring unnecessary instance type: None.\n"
     ]
    },
    {
     "data": {
      "text/plain": [
       "'683313688378.dkr.ecr.us-east-1.amazonaws.com/sagemaker-xgboost:1.2-2'"
      ]
     },
     "execution_count": 26,
     "metadata": {},
     "output_type": "execute_result"
    }
   ],
   "source": [
    "container = sagemaker.image_uris.retrieve(framework='xgboost', region=sess.boto_region_name, version='1.2-2')\n",
    "container"
   ]
  },
  {
   "cell_type": "code",
   "execution_count": 27,
   "id": "e4675652",
   "metadata": {},
   "outputs": [],
   "source": [
    "output_path='s3://ganesa-ml-sagemaker/binary_text_classification/model/'\n",
    "base_job_name = 'xgboost-aws'\n",
    "hyperparameters = {\n",
    "    'objective': 'binary:logistic',\n",
    "    'num_round': 100,\n",
    "    'max_depth': 5,\n",
    "    'early_stopping_rounds': 10\n",
    "}\n",
    "estimator = sagemaker.estimator.Estimator(image_uri=container,\n",
    "                                         hyperparameters=hyperparameters,\n",
    "                                         instance_count=1,\n",
    "                                         instance_type='ml.m5.large',\n",
    "                                         role=role,\n",
    "                                         sagemaker_session=sess,\n",
    "                                         input_mode='File',\n",
    "                                         output_path=output_path,\n",
    "                                          base_job_name=base_job_name\n",
    "                                         )"
   ]
  },
  {
   "cell_type": "code",
   "execution_count": 28,
   "id": "b6504dc7",
   "metadata": {},
   "outputs": [],
   "source": [
    "# content type can be libsvm or csv for XGBoost\n",
    "s3_training_file_location = 's3://ganesa-ml-sagemaker/binary_text_classification/train/'\n",
    "s3_validation_file_location = 's3://ganesa-ml-sagemaker/binary_text_classification/test/'\n",
    "training_input_config = sagemaker.session.TrainingInput(\n",
    "    s3_data=s3_training_file_location,\n",
    "    content_type='csv',\n",
    "    s3_data_type='S3Prefix')\n",
    "\n",
    "validation_input_config = sagemaker.session.TrainingInput(\n",
    "    s3_data=s3_validation_file_location,\n",
    "    content_type='csv',\n",
    "    s3_data_type='S3Prefix'\n",
    ")\n",
    "\n",
    "data_channels = {'train': training_input_config, 'validation': validation_input_config}"
   ]
  },
  {
   "cell_type": "code",
   "execution_count": 29,
   "id": "20ac39fb",
   "metadata": {},
   "outputs": [
    {
     "name": "stderr",
     "output_type": "stream",
     "text": [
      "INFO:sagemaker:Creating training-job with name: xgboost-aws-2024-06-19-09-25-18-091\n"
     ]
    },
    {
     "name": "stdout",
     "output_type": "stream",
     "text": [
      "2024-06-19 09:25:18 Starting - Starting the training job...\n",
      "2024-06-19 09:25:34 Starting - Preparing the instances for training...\n",
      "2024-06-19 09:26:05 Downloading - Downloading input data......\n",
      "2024-06-19 09:26:50 Downloading - Downloading the training image...\n",
      "2024-06-19 09:27:41 Training - Training image download completed. Training in progress..\u001b[34m[2024-06-19 09:27:43.933 ip-10-0-110-22.ec2.internal:8 INFO utils.py:27] RULE_JOB_STOP_SIGNAL_FILENAME: None\u001b[0m\n",
      "\u001b[34m[2024-06-19:09:27:43:INFO] Imported framework sagemaker_xgboost_container.training\u001b[0m\n",
      "\u001b[34m[2024-06-19:09:27:43:INFO] Failed to parse hyperparameter objective value binary:logistic to Json.\u001b[0m\n",
      "\u001b[34mReturning the value itself\u001b[0m\n",
      "\u001b[34m[2024-06-19:09:27:43:INFO] No GPUs detected (normal if no gpus installed)\u001b[0m\n",
      "\u001b[34m[2024-06-19:09:27:43:INFO] Running XGBoost Sagemaker in algorithm mode\u001b[0m\n",
      "\u001b[34m[2024-06-19:09:27:43:INFO] Determined delimiter of CSV input is ','\u001b[0m\n",
      "\u001b[34m[2024-06-19:09:27:44:INFO] Determined delimiter of CSV input is ','\u001b[0m\n",
      "\u001b[34m[2024-06-19:09:27:44:INFO] Determined delimiter of CSV input is ','\u001b[0m\n",
      "\u001b[34m[2024-06-19:09:27:44:INFO] Determined delimiter of CSV input is ','\u001b[0m\n",
      "\u001b[34m[2024-06-19:09:27:44:INFO] Single node training.\u001b[0m\n",
      "\u001b[34m[2024-06-19:09:27:44:INFO] Train matrix has 800 rows and 1587 columns\u001b[0m\n",
      "\u001b[34m[2024-06-19:09:27:44:INFO] Validation matrix has 200 rows\u001b[0m\n",
      "\u001b[34m[2024-06-19 09:27:44.194 ip-10-0-110-22.ec2.internal:8 INFO json_config.py:91] Creating hook from json_config at /opt/ml/input/config/debughookconfig.json.\u001b[0m\n",
      "\u001b[34m[2024-06-19 09:27:44.195 ip-10-0-110-22.ec2.internal:8 INFO hook.py:201] tensorboard_dir has not been set for the hook. SMDebug will not be exporting tensorboard summaries.\u001b[0m\n",
      "\u001b[34m[2024-06-19 09:27:44.195 ip-10-0-110-22.ec2.internal:8 INFO profiler_config_parser.py:102] User has disabled profiler.\u001b[0m\n",
      "\u001b[34m[2024-06-19 09:27:44.196 ip-10-0-110-22.ec2.internal:8 INFO hook.py:255] Saving to /opt/ml/output/tensors\u001b[0m\n",
      "\u001b[34m[2024-06-19 09:27:44.196 ip-10-0-110-22.ec2.internal:8 INFO state_store.py:77] The checkpoint config file /opt/ml/input/config/checkpointconfig.json does not exist.\u001b[0m\n",
      "\u001b[34m[2024-06-19:09:27:44:INFO] Debug hook created from config\u001b[0m\n",
      "\u001b[34m[0]#011train-error:0.31500#011validation-error:0.39000\u001b[0m\n",
      "\u001b[34m[2024-06-19 09:27:44.306 ip-10-0-110-22.ec2.internal:8 INFO hook.py:423] Monitoring the collections: metrics\u001b[0m\n",
      "\u001b[34m[2024-06-19 09:27:44.314 ip-10-0-110-22.ec2.internal:8 INFO hook.py:486] Hook is writing from the hook with pid: 8\u001b[0m\n",
      "\u001b[34m[1]#011train-error:0.28875#011validation-error:0.38500\u001b[0m\n",
      "\u001b[34m[2]#011train-error:0.26875#011validation-error:0.35500\u001b[0m\n",
      "\u001b[34m[3]#011train-error:0.25875#011validation-error:0.35500\u001b[0m\n",
      "\u001b[34m[4]#011train-error:0.25000#011validation-error:0.33000\u001b[0m\n",
      "\u001b[34m[5]#011train-error:0.23000#011validation-error:0.32000\u001b[0m\n",
      "\u001b[34m[6]#011train-error:0.23500#011validation-error:0.31000\u001b[0m\n",
      "\u001b[34m[7]#011train-error:0.21250#011validation-error:0.30500\u001b[0m\n",
      "\u001b[34m[8]#011train-error:0.23000#011validation-error:0.31000\u001b[0m\n",
      "\u001b[34m[9]#011train-error:0.22875#011validation-error:0.31000\u001b[0m\n",
      "\u001b[34m[10]#011train-error:0.22750#011validation-error:0.31000\u001b[0m\n",
      "\u001b[34m[11]#011train-error:0.22250#011validation-error:0.30000\u001b[0m\n",
      "\u001b[34m[12]#011train-error:0.22000#011validation-error:0.30000\u001b[0m\n",
      "\u001b[34m[13]#011train-error:0.21750#011validation-error:0.30000\u001b[0m\n",
      "\u001b[34m[14]#011train-error:0.20750#011validation-error:0.30500\u001b[0m\n",
      "\u001b[34m[15]#011train-error:0.20750#011validation-error:0.30500\u001b[0m\n",
      "\u001b[34m[16]#011train-error:0.19750#011validation-error:0.29500\u001b[0m\n",
      "\u001b[34m[17]#011train-error:0.18750#011validation-error:0.29500\u001b[0m\n",
      "\u001b[34m[18]#011train-error:0.18750#011validation-error:0.29500\u001b[0m\n",
      "\u001b[34m[19]#011train-error:0.18750#011validation-error:0.30000\u001b[0m\n",
      "\u001b[34m[20]#011train-error:0.18000#011validation-error:0.29500\u001b[0m\n",
      "\u001b[34m[21]#011train-error:0.17875#011validation-error:0.29000\u001b[0m\n",
      "\u001b[34m[22]#011train-error:0.17750#011validation-error:0.30000\u001b[0m\n",
      "\u001b[34m[23]#011train-error:0.17375#011validation-error:0.30000\u001b[0m\n",
      "\u001b[34m[24]#011train-error:0.17250#011validation-error:0.30000\u001b[0m\n",
      "\u001b[34m[25]#011train-error:0.17250#011validation-error:0.30000\u001b[0m\n",
      "\u001b[34m[26]#011train-error:0.17125#011validation-error:0.30000\u001b[0m\n",
      "\u001b[34m[27]#011train-error:0.17000#011validation-error:0.30000\u001b[0m\n",
      "\u001b[34m[28]#011train-error:0.17000#011validation-error:0.30000\u001b[0m\n",
      "\u001b[34m[29]#011train-error:0.17125#011validation-error:0.29500\u001b[0m\n",
      "\u001b[34m[30]#011train-error:0.17250#011validation-error:0.29000\u001b[0m\n",
      "\u001b[34m[31]#011train-error:0.17125#011validation-error:0.29000\u001b[0m\n",
      "\n",
      "2024-06-19 09:28:04 Uploading - Uploading generated training model\n",
      "2024-06-19 09:28:04 Completed - Training job completed\n",
      "Training seconds: 119\n",
      "Billable seconds: 119\n"
     ]
    }
   ],
   "source": [
    "estimator.fit(data_channels)"
   ]
  },
  {
   "cell_type": "code",
   "execution_count": 30,
   "id": "641923d9",
   "metadata": {},
   "outputs": [
    {
     "name": "stderr",
     "output_type": "stream",
     "text": [
      "INFO:botocore.credentials:Found credentials from IAM Role: BaseNotebookInstanceEc2InstanceRole\n"
     ]
    }
   ],
   "source": [
    "#data_pipeline = None\n",
    "#pipeln_bucket = 'ganesa-ml-sagemaker'\n",
    "#pipeln_object = 'binary_text_classification/data_pipeline/data_pipeline'\n",
    "with open('data_pipeline_downloaded', 'wb') as fw:\n",
    "    boto3.Session(region_name='us-east-1').resource('s3').Bucket(pipeln_bucket).Object(pipeln_object).download_fileobj(fw)"
   ]
  },
  {
   "cell_type": "code",
   "execution_count": 31,
   "id": "112bd2e9",
   "metadata": {},
   "outputs": [],
   "source": [
    "import pickle\n",
    "class sparse_to_dense:\n",
    "    def fit(self, X, y=None, **fit_params):\n",
    "        return self\n",
    "    def transform(self, X, y=None, **fit_params):\n",
    "        return X.toarray()\n",
    "data_pipeline = None\n",
    "with open('data_pipeline_downloaded', 'rb') as fh:\n",
    "    data_pipeline = pickle.load(fh)"
   ]
  },
  {
   "cell_type": "code",
   "execution_count": 32,
   "id": "f93a4e13",
   "metadata": {},
   "outputs": [
    {
     "data": {
      "text/plain": [
       "array([[-0.07029673, -0.03537746, -0.03537746, ..., -0.03537746,\n",
       "        -0.06820728, -0.05721465]])"
      ]
     },
     "execution_count": 32,
     "metadata": {},
     "output_type": "execute_result"
    }
   ],
   "source": [
    "data_pipeline.transform([['lord ganesa is powerful']])"
   ]
  },
  {
   "cell_type": "code",
   "execution_count": 33,
   "id": "86e0ee3c",
   "metadata": {},
   "outputs": [
    {
     "name": "stderr",
     "output_type": "stream",
     "text": [
      "INFO:sagemaker:Creating model with name: xgboost-aws-2024-06-19-09-30-59-058\n",
      "INFO:sagemaker:Creating endpoint-config with name xgboost-aws-v1\n",
      "INFO:sagemaker:Creating endpoint with name xgboost-aws-v1\n"
     ]
    },
    {
     "name": "stdout",
     "output_type": "stream",
     "text": [
      "------!"
     ]
    }
   ],
   "source": [
    "predictor = estimator.deploy(initial_instance_count=1,\n",
    "                             instance_type='ml.m5.large',\n",
    "                             endpoint_name='xgboost-aws-v1'\n",
    "                            )"
   ]
  },
  {
   "cell_type": "code",
   "execution_count": 34,
   "id": "b4e55cdf",
   "metadata": {},
   "outputs": [],
   "source": [
    "from sagemaker.serializers import CSVSerializer"
   ]
  },
  {
   "cell_type": "code",
   "execution_count": 35,
   "id": "d1653a78",
   "metadata": {},
   "outputs": [],
   "source": [
    "predictor.serializer = CSVSerializer()"
   ]
  },
  {
   "cell_type": "code",
   "execution_count": 36,
   "id": "d79c6445",
   "metadata": {},
   "outputs": [
    {
     "data": {
      "text/plain": [
       "b'0.3724002242088318\\n'"
      ]
     },
     "execution_count": 36,
     "metadata": {},
     "output_type": "execute_result"
    }
   ],
   "source": [
    "predictor.predict(data_pipeline.transform([['lord ganesa is powerful']]))"
   ]
  },
  {
   "cell_type": "code",
   "execution_count": null,
   "id": "d8919e3d",
   "metadata": {},
   "outputs": [],
   "source": []
  }
 ],
 "metadata": {
  "kernelspec": {
   "display_name": "conda_python3",
   "language": "python",
   "name": "conda_python3"
  },
  "language_info": {
   "codemirror_mode": {
    "name": "ipython",
    "version": 3
   },
   "file_extension": ".py",
   "mimetype": "text/x-python",
   "name": "python",
   "nbconvert_exporter": "python",
   "pygments_lexer": "ipython3",
   "version": "3.10.14"
  }
 },
 "nbformat": 4,
 "nbformat_minor": 5
}
